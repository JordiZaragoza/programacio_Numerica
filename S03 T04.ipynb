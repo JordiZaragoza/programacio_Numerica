{
 "cells": [
  {
   "cell_type": "markdown",
   "id": "27390e80",
   "metadata": {},
   "source": [
    "# Ejercicio 1"
   ]
  },
  {
   "cell_type": "markdown",
   "id": "df5c8a3b",
   "metadata": {},
   "source": [
    "### *Crea una funcion que dado un Array de una dimension. te haga un resumen estadistico basico de los datos. Si detecta que el array tiene mas de una dimension, tiene que mostrar un mensaje de error*"
   ]
  },
  {
   "cell_type": "code",
   "execution_count": null,
   "id": "73489bbe",
   "metadata": {},
   "outputs": [],
   "source": [
    "import numpy as np\n",
    "\n",
    "def inspec_array(a): # creo la funcion con la informacion estadistica basica que quiero buscar y el mensaje de error\n",
    "    \n",
    "    if a.ndim != 1:\n",
    "        print(\"Error: El array tiene mas de una dimensión\")\n",
    "    else:\n",
    "        print(\"Min: \", np.amin(a))\n",
    "        print(\"Max: \", np.amax(a))\n",
    "        print(\"Mean: \", np.mean(a))\n",
    "        print(\"Mediana: \", np.median(a))\n",
    "        print(\"Desviacion estandar: \", np.std(a))\n",
    "        print(\"Varianza: \", np.var(a))"
   ]
  },
  {
   "cell_type": "code",
   "execution_count": 2,
   "id": "b207d7f7",
   "metadata": {},
   "outputs": [
    {
     "name": "stdout",
     "output_type": "stream",
     "text": [
      "Min:  3\n",
      "Max:  7\n",
      "Mean:  5.0\n",
      "Mediana:  5.0\n",
      "Desviacion estandar:  1.632993161855452\n",
      "Varianza:  2.6666666666666665\n"
     ]
    }
   ],
   "source": [
    "a = np.array([3,7,5])\n",
    "\n",
    "inspec_array(a)"
   ]
  },
  {
   "cell_type": "code",
   "execution_count": 7,
   "id": "140a0f63",
   "metadata": {},
   "outputs": [
    {
     "name": "stdout",
     "output_type": "stream",
     "text": [
      "Error: El array tiene mas de una dimensión\n"
     ]
    }
   ],
   "source": [
    "b = np.array([[3,7,5] , [4,8,9]])\n",
    "\n",
    "inspec_array(b)"
   ]
  },
  {
   "cell_type": "markdown",
   "id": "31f4f641",
   "metadata": {},
   "source": [
    "# Ejercicio 2"
   ]
  },
  {
   "cell_type": "markdown",
   "id": "c4aa3b3c",
   "metadata": {},
   "source": [
    "### *Crea una funcion que te genere un cuadrado NxN de numeros aleatorios entre el 0 y el 100*"
   ]
  },
  {
   "cell_type": "code",
   "execution_count": 4,
   "id": "37a628a2",
   "metadata": {},
   "outputs": [],
   "source": [
    "def cuadrado(n):\n",
    "    \n",
    "    a = np.random.randint(1,100,(n,n))\n",
    "    print(a)"
   ]
  },
  {
   "cell_type": "code",
   "execution_count": 5,
   "id": "0d50e3d0",
   "metadata": {},
   "outputs": [
    {
     "name": "stdout",
     "output_type": "stream",
     "text": [
      "Introduce un numero: 5\n",
      "[[87 93 30 25 42]\n",
      " [64 20 37 84 34]\n",
      " [19 48 73 79 20]\n",
      " [ 2 90 46 84 14]\n",
      " [38 48 10 62 57]]\n"
     ]
    }
   ],
   "source": [
    "num = int(input(\"Introduce un numero: \"))\n",
    "cuadrado(num)"
   ]
  },
  {
   "cell_type": "code",
   "execution_count": 6,
   "id": "0105de24",
   "metadata": {},
   "outputs": [
    {
     "name": "stdout",
     "output_type": "stream",
     "text": [
      "Introduce un numero: 8\n",
      "[[88  8 44 26 20 48 49 67]\n",
      " [12 97  1 61 17 25 94 83]\n",
      " [81 57 91 40 45 75 10 19]\n",
      " [96 97 95 25  9 79 70 78]\n",
      " [88 16 18 32 93 96  1  8]\n",
      " [50 76 82 59 91 55 77 91]\n",
      " [77 68  8 92 12 75 82 73]\n",
      " [ 7 83 87 70 27  2 81 57]]\n"
     ]
    }
   ],
   "source": [
    "num = int(input(\"Introduce un numero: \"))\n",
    "cuadrado(num)"
   ]
  },
  {
   "cell_type": "markdown",
   "id": "efa76f81",
   "metadata": {},
   "source": [
    "# Ejercicio 3"
   ]
  },
  {
   "cell_type": "markdown",
   "id": "bc17dd60",
   "metadata": {},
   "source": [
    "### *Crea una funcion que dada una tabla de dos dimensiones, te calcule los totales por fila y los totales por columna*"
   ]
  },
  {
   "cell_type": "code",
   "execution_count": 8,
   "id": "d7563b77",
   "metadata": {},
   "outputs": [],
   "source": [
    "def sumTabla(x):\n",
    "    \n",
    "    fila = np.sum(x, axis=0)\n",
    "    colum = np.sum(x, axis=1)\n",
    "    \n",
    "    print(\"Suma fila: \", fila)\n",
    "    print(\"Suma columna: \", colum)  "
   ]
  },
  {
   "cell_type": "code",
   "execution_count": 10,
   "id": "dc1654e2",
   "metadata": {},
   "outputs": [
    {
     "name": "stdout",
     "output_type": "stream",
     "text": [
      "Suma fila:  [11  9]\n",
      "Suma columna:  [ 7 13]\n"
     ]
    }
   ],
   "source": [
    "a = ([[4,3], [7,6]])\n",
    "\n",
    "sumTabla(a)"
   ]
  },
  {
   "cell_type": "markdown",
   "id": "a36bd222",
   "metadata": {},
   "source": [
    "# Ejercicio 4"
   ]
  },
  {
   "cell_type": "markdown",
   "id": "9e54db57",
   "metadata": {},
   "source": [
    "### *Implementa manualmente una funcion que calcule el coeficiente de correlacion. Informate sobre sus usos e interpretación*"
   ]
  },
  {
   "cell_type": "code",
   "execution_count": null,
   "id": "0d8dd738",
   "metadata": {},
   "outputs": [],
   "source": []
  }
 ],
 "metadata": {
  "kernelspec": {
   "display_name": "Python 3",
   "language": "python",
   "name": "python3"
  },
  "language_info": {
   "codemirror_mode": {
    "name": "ipython",
    "version": 3
   },
   "file_extension": ".py",
   "mimetype": "text/x-python",
   "name": "python",
   "nbconvert_exporter": "python",
   "pygments_lexer": "ipython3",
   "version": "3.8.8"
  }
 },
 "nbformat": 4,
 "nbformat_minor": 5
}
