{
 "cells": [
  {
   "cell_type": "code",
   "execution_count": 48,
   "id": "7c32115f",
   "metadata": {},
   "outputs": [],
   "source": [
    "import numpy as np\n",
    "\n",
    "def inspec_array(a):\n",
    "    \n",
    "    if a.ndim != 1:\n",
    "        print(\"Error: El array tiene mas de una dimensión\")\n",
    "    else:\n",
    "        print(\"Min: \", np.amin(a))\n",
    "        print(\"Max: \", np.amax(a))\n",
    "        print(\"Mean: \", np.mean(a))\n",
    "        print(\"Mediana: \", np.median(a))\n",
    "        print(\"Desviacion estandar: \", np.std(a))\n",
    "        print(\"Varianza: \", np.var(a))"
   ]
  },
  {
   "cell_type": "code",
   "execution_count": 49,
   "id": "72e34edb",
   "metadata": {},
   "outputs": [
    {
     "name": "stdout",
     "output_type": "stream",
     "text": [
      "Min:  3\n",
      "Max:  7\n",
      "Mean:  5.0\n",
      "Mediana:  5.0\n",
      "Desviacion estandar:  1.632993161855452\n",
      "Varianza:  2.6666666666666665\n"
     ]
    }
   ],
   "source": [
    "a = np.array([3,7,5])\n",
    "\n",
    "inspec_array(a)"
   ]
  },
  {
   "cell_type": "code",
   "execution_count": 51,
   "id": "ff84d9a0",
   "metadata": {},
   "outputs": [
    {
     "name": "stdout",
     "output_type": "stream",
     "text": [
      "Error: El array tiene mas de una dimensión\n"
     ]
    }
   ],
   "source": [
    "b = np.array([[3,7,5] , [4,8,9]])\n",
    "\n",
    "inspec_array(b)"
   ]
  },
  {
   "cell_type": "code",
   "execution_count": null,
   "id": "2e4fda59",
   "metadata": {},
   "outputs": [],
   "source": []
  }
 ],
 "metadata": {
  "kernelspec": {
   "display_name": "Python 3",
   "language": "python",
   "name": "python3"
  },
  "language_info": {
   "codemirror_mode": {
    "name": "ipython",
    "version": 3
   },
   "file_extension": ".py",
   "mimetype": "text/x-python",
   "name": "python",
   "nbconvert_exporter": "python",
   "pygments_lexer": "ipython3",
   "version": "3.8.8"
  }
 },
 "nbformat": 4,
 "nbformat_minor": 5
}
